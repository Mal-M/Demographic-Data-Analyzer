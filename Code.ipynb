{
 "cells": [
  {
   "cell_type": "markdown",
   "id": "40b302e4",
   "metadata": {},
   "source": [
    "## Demographic Data Analyzer"
   ]
  },
  {
   "cell_type": "markdown",
   "id": "841a5a35",
   "metadata": {},
   "source": [
    "Analyze demographic data using Pandas. Data was extracted from the 1994 Census database."
   ]
  },
  {
   "cell_type": "markdown",
   "id": "6a7f5fb6",
   "metadata": {},
   "source": [
    "#### 1. Import Libraries and Load Data"
   ]
  },
  {
   "cell_type": "code",
   "execution_count": 1,
   "id": "b348428a",
   "metadata": {},
   "outputs": [],
   "source": [
    "# import necessary libraries \n",
    "\n",
    "import pandas as pd\n",
    "import numpy as np\n",
    "import matplotlib.pyplot as plt\n",
    "import seaborn as sns"
   ]
  },
  {
   "cell_type": "code",
   "execution_count": 2,
   "id": "ca190f59",
   "metadata": {},
   "outputs": [],
   "source": [
    "# load data\n",
    "data = pd.read_csv(\"adult.data.csv\")\n",
    "# print(data)"
   ]
  },
  {
   "cell_type": "markdown",
   "id": "6be5789f",
   "metadata": {},
   "source": [
    "#### 2. Data Exploration and Processing"
   ]
  },
  {
   "cell_type": "code",
   "execution_count": 3,
   "id": "48d354dc",
   "metadata": {},
   "outputs": [
    {
     "name": "stdout",
     "output_type": "stream",
     "text": [
      "<class 'pandas.core.frame.DataFrame'>\n",
      "RangeIndex: 32561 entries, 0 to 32560\n",
      "Data columns (total 15 columns):\n",
      " #   Column          Non-Null Count  Dtype \n",
      "---  ------          --------------  ----- \n",
      " 0   age             32561 non-null  int64 \n",
      " 1   workclass       32561 non-null  object\n",
      " 2   fnlwgt          32561 non-null  int64 \n",
      " 3   education       32561 non-null  object\n",
      " 4   education-num   32561 non-null  int64 \n",
      " 5   marital-status  32561 non-null  object\n",
      " 6   occupation      32561 non-null  object\n",
      " 7   relationship    32561 non-null  object\n",
      " 8   race            32561 non-null  object\n",
      " 9   sex             32561 non-null  object\n",
      " 10  capital-gain    32561 non-null  int64 \n",
      " 11  capital-loss    32561 non-null  int64 \n",
      " 12  hours-per-week  32561 non-null  int64 \n",
      " 13  native-country  32561 non-null  object\n",
      " 14  salary          32561 non-null  object\n",
      "dtypes: int64(6), object(9)\n",
      "memory usage: 3.7+ MB\n"
     ]
    }
   ],
   "source": [
    "data.info()"
   ]
  },
  {
   "cell_type": "code",
   "execution_count": 4,
   "id": "6a5e7f75",
   "metadata": {},
   "outputs": [
    {
     "data": {
      "text/html": [
       "<div>\n",
       "<style scoped>\n",
       "    .dataframe tbody tr th:only-of-type {\n",
       "        vertical-align: middle;\n",
       "    }\n",
       "\n",
       "    .dataframe tbody tr th {\n",
       "        vertical-align: top;\n",
       "    }\n",
       "\n",
       "    .dataframe thead th {\n",
       "        text-align: right;\n",
       "    }\n",
       "</style>\n",
       "<table border=\"1\" class=\"dataframe\">\n",
       "  <thead>\n",
       "    <tr style=\"text-align: right;\">\n",
       "      <th></th>\n",
       "      <th>age</th>\n",
       "      <th>fnlwgt</th>\n",
       "      <th>education-num</th>\n",
       "      <th>capital-gain</th>\n",
       "      <th>capital-loss</th>\n",
       "      <th>hours-per-week</th>\n",
       "    </tr>\n",
       "  </thead>\n",
       "  <tbody>\n",
       "    <tr>\n",
       "      <th>count</th>\n",
       "      <td>32561.000000</td>\n",
       "      <td>3.256100e+04</td>\n",
       "      <td>32561.000000</td>\n",
       "      <td>32561.000000</td>\n",
       "      <td>32561.000000</td>\n",
       "      <td>32561.000000</td>\n",
       "    </tr>\n",
       "    <tr>\n",
       "      <th>mean</th>\n",
       "      <td>38.581647</td>\n",
       "      <td>1.897784e+05</td>\n",
       "      <td>10.080679</td>\n",
       "      <td>1077.648844</td>\n",
       "      <td>87.303830</td>\n",
       "      <td>40.437456</td>\n",
       "    </tr>\n",
       "    <tr>\n",
       "      <th>std</th>\n",
       "      <td>13.640433</td>\n",
       "      <td>1.055500e+05</td>\n",
       "      <td>2.572720</td>\n",
       "      <td>7385.292085</td>\n",
       "      <td>402.960219</td>\n",
       "      <td>12.347429</td>\n",
       "    </tr>\n",
       "    <tr>\n",
       "      <th>min</th>\n",
       "      <td>17.000000</td>\n",
       "      <td>1.228500e+04</td>\n",
       "      <td>1.000000</td>\n",
       "      <td>0.000000</td>\n",
       "      <td>0.000000</td>\n",
       "      <td>1.000000</td>\n",
       "    </tr>\n",
       "    <tr>\n",
       "      <th>25%</th>\n",
       "      <td>28.000000</td>\n",
       "      <td>1.178270e+05</td>\n",
       "      <td>9.000000</td>\n",
       "      <td>0.000000</td>\n",
       "      <td>0.000000</td>\n",
       "      <td>40.000000</td>\n",
       "    </tr>\n",
       "    <tr>\n",
       "      <th>50%</th>\n",
       "      <td>37.000000</td>\n",
       "      <td>1.783560e+05</td>\n",
       "      <td>10.000000</td>\n",
       "      <td>0.000000</td>\n",
       "      <td>0.000000</td>\n",
       "      <td>40.000000</td>\n",
       "    </tr>\n",
       "    <tr>\n",
       "      <th>75%</th>\n",
       "      <td>48.000000</td>\n",
       "      <td>2.370510e+05</td>\n",
       "      <td>12.000000</td>\n",
       "      <td>0.000000</td>\n",
       "      <td>0.000000</td>\n",
       "      <td>45.000000</td>\n",
       "    </tr>\n",
       "    <tr>\n",
       "      <th>max</th>\n",
       "      <td>90.000000</td>\n",
       "      <td>1.484705e+06</td>\n",
       "      <td>16.000000</td>\n",
       "      <td>99999.000000</td>\n",
       "      <td>4356.000000</td>\n",
       "      <td>99.000000</td>\n",
       "    </tr>\n",
       "  </tbody>\n",
       "</table>\n",
       "</div>"
      ],
      "text/plain": [
       "                age        fnlwgt  education-num  capital-gain  capital-loss  \\\n",
       "count  32561.000000  3.256100e+04   32561.000000  32561.000000  32561.000000   \n",
       "mean      38.581647  1.897784e+05      10.080679   1077.648844     87.303830   \n",
       "std       13.640433  1.055500e+05       2.572720   7385.292085    402.960219   \n",
       "min       17.000000  1.228500e+04       1.000000      0.000000      0.000000   \n",
       "25%       28.000000  1.178270e+05       9.000000      0.000000      0.000000   \n",
       "50%       37.000000  1.783560e+05      10.000000      0.000000      0.000000   \n",
       "75%       48.000000  2.370510e+05      12.000000      0.000000      0.000000   \n",
       "max       90.000000  1.484705e+06      16.000000  99999.000000   4356.000000   \n",
       "\n",
       "       hours-per-week  \n",
       "count    32561.000000  \n",
       "mean        40.437456  \n",
       "std         12.347429  \n",
       "min          1.000000  \n",
       "25%         40.000000  \n",
       "50%         40.000000  \n",
       "75%         45.000000  \n",
       "max         99.000000  "
      ]
     },
     "execution_count": 4,
     "metadata": {},
     "output_type": "execute_result"
    }
   ],
   "source": [
    "data.describe()"
   ]
  },
  {
   "cell_type": "code",
   "execution_count": 5,
   "id": "8d87ad5d",
   "metadata": {},
   "outputs": [
    {
     "data": {
      "text/plain": [
       "age               0\n",
       "workclass         0\n",
       "fnlwgt            0\n",
       "education         0\n",
       "education-num     0\n",
       "marital-status    0\n",
       "occupation        0\n",
       "relationship      0\n",
       "race              0\n",
       "sex               0\n",
       "capital-gain      0\n",
       "capital-loss      0\n",
       "hours-per-week    0\n",
       "native-country    0\n",
       "salary            0\n",
       "dtype: int64"
      ]
     },
     "execution_count": 5,
     "metadata": {},
     "output_type": "execute_result"
    }
   ],
   "source": [
    "# check missing data\n",
    "\n",
    "data.isnull().sum()"
   ]
  },
  {
   "cell_type": "markdown",
   "id": "8792ccb5",
   "metadata": {},
   "source": [
    "We don't have any missing values in data."
   ]
  },
  {
   "cell_type": "code",
   "execution_count": 6,
   "id": "af2479ad",
   "metadata": {},
   "outputs": [
    {
     "name": "stdout",
     "output_type": "stream",
     "text": [
      "White                 27816\n",
      "Black                  3124\n",
      "Asian-Pac-Islander     1039\n",
      "Amer-Indian-Eskimo      311\n",
      "Other                   271\n",
      "Name: race, dtype: int64\n",
      "['White', 'Black', 'Asian-Pac-Islander', 'Amer-Indian-Eskimo', 'Other']\n"
     ]
    }
   ],
   "source": [
    "race = data[\"race\"].value_counts()\n",
    "print(race)\n",
    "\n",
    "race_unique = list(data[\"race\"].unique())\n",
    "print(race_unique)"
   ]
  },
  {
   "cell_type": "code",
   "execution_count": 7,
   "id": "2afa99f6",
   "metadata": {},
   "outputs": [
    {
     "data": {
      "image/png": "[encoded data removed]",
      "text/plain": [
       "<Figure size 432x288 with 1 Axes>"
      ]
     },
     "metadata": {},
     "output_type": "display_data"
    }
   ],
   "source": [
    "plt.pie(race, radius = 1, labels = None, shadow = bool, autopct='%1.1f%%', labeldistance=1.1, startangle=180)\n",
    "\n",
    "plt.title(\"Race Distribution\", color = \"blue\")\n",
    "#plt.axis('equal')\n",
    "plt.legend(title=\"Race\", labels = race_unique, loc=\"upper left\", bbox_to_anchor=(1, 0.5))\n",
    "\n",
    "plt.show()"
   ]
  },
  {
   "cell_type": "code",
   "execution_count": 8,
   "id": "8c05e8b2",
   "metadata": {},
   "outputs": [
    {
     "name": "stdout",
     "output_type": "stream",
     "text": [
      "0         True\n",
      "1         True\n",
      "2         True\n",
      "3         True\n",
      "4        False\n",
      "         ...  \n",
      "32556    False\n",
      "32557     True\n",
      "32558    False\n",
      "32559     True\n",
      "32560    False\n",
      "Name: sex, Length: 32561, dtype: bool\n"
     ]
    }
   ],
   "source": [
    "# create mask for Male\n",
    "\n",
    "mask = (data[\"sex\"] == \"Male\")\n",
    "print(mask)"
   ]
  },
  {
   "cell_type": "code",
   "execution_count": 9,
   "id": "876c822b",
   "metadata": {},
   "outputs": [
    {
     "name": "stdout",
     "output_type": "stream",
     "text": [
      "Mean of Male Age is: 39.43354749885268\n"
     ]
    }
   ],
   "source": [
    "# use mask to filter the data and calculate the mean of age\n",
    "\n",
    "print(f'Mean of Male Age is: {data[mask][\"age\"].mean()}')"
   ]
  },
  {
   "cell_type": "code",
   "execution_count": 10,
   "id": "20ca9033",
   "metadata": {},
   "outputs": [],
   "source": [
    "bachelor = data[data[\"education\"] == \"Bachelors\"].value_counts()\n",
    "# print(bachelor)"
   ]
  },
  {
   "cell_type": "code",
   "execution_count": 11,
   "id": "4f3a55e5",
   "metadata": {},
   "outputs": [
    {
     "name": "stdout",
     "output_type": "stream",
     "text": [
      "Percentage of people with Bachelor's degree: 16.44\n"
     ]
    }
   ],
   "source": [
    "# calculate percentage of people who have a Bachelor's degree\n",
    "\n",
    "percentage_bachelor = (len(bachelor) / len(data)) * 100\n",
    "print(f\"Percentage of people with Bachelor's degree: {percentage_bachelor:.2f}\")"
   ]
  },
  {
   "cell_type": "code",
   "execution_count": 12,
   "id": "1300af14",
   "metadata": {},
   "outputs": [
    {
     "data": {
      "text/plain": [
       "array(['Bachelors', 'HS-grad', '11th', 'Masters', '9th', 'Some-college',\n",
       "       'Assoc-acdm', 'Assoc-voc', '7th-8th', 'Doctorate', 'Prof-school',\n",
       "       '5th-6th', '10th', '1st-4th', 'Preschool', '12th'], dtype=object)"
      ]
     },
     "execution_count": 12,
     "metadata": {},
     "output_type": "execute_result"
    }
   ],
   "source": [
    "data[\"education\"].unique()"
   ]
  },
  {
   "cell_type": "code",
   "execution_count": 13,
   "id": "a6a67dcc",
   "metadata": {},
   "outputs": [],
   "source": [
    "# calculate percentage of people with advanced education (Bachelors, Masters, or Doctorate) who make more than 50K\n",
    "\n",
    "filter_degree = ((data[\"education\"] == \"Bachelors\") | (data[\"education\"] == \"Masters\") | (data[\"education\"] == \"Doctorate\"))\n",
    "filter_data = data[filter_degree]\n",
    "# print(filter_data)"
   ]
  },
  {
   "cell_type": "code",
   "execution_count": 14,
   "id": "a44f76fe",
   "metadata": {},
   "outputs": [
    {
     "data": {
      "text/plain": [
       "array(['Bachelors', 'Masters', 'Doctorate'], dtype=object)"
      ]
     },
     "execution_count": 14,
     "metadata": {},
     "output_type": "execute_result"
    }
   ],
   "source": [
    "filter_data[\"education\"].unique()"
   ]
  },
  {
   "cell_type": "code",
   "execution_count": 15,
   "id": "327f6ae6",
   "metadata": {},
   "outputs": [],
   "source": [
    "# check thoes who have high degree and earn more than 50k\n",
    "more_than_50K = (filter_data[\"salary\"] == \">50K\")\n",
    "# print(filter_data[more_than_50K])"
   ]
  },
  {
   "cell_type": "code",
   "execution_count": 16,
   "id": "dae0381a",
   "metadata": {},
   "outputs": [
    {
     "name": "stdout",
     "output_type": "stream",
     "text": [
      "[5355, 1723, 413]\n",
      "['Bachelors', 'Masters', 'Doctorate']\n"
     ]
    }
   ],
   "source": [
    "degree = list(filter_data[\"education\"].value_counts())\n",
    "print(degree)\n",
    "\n",
    "degree_labels = list(filter_data[\"education\"].unique())\n",
    "print(degree_labels)\n"
   ]
  },
  {
   "cell_type": "code",
   "execution_count": 17,
   "id": "3de2c176",
   "metadata": {},
   "outputs": [
    {
     "data": {
      "image/png": "[encoded data removed]",
      "text/plain": [
       "<Figure size 864x432 with 1 Axes>"
      ]
     },
     "metadata": {},
     "output_type": "display_data"
    }
   ],
   "source": [
    "# plot of advanced degrees\n",
    "\n",
    "plt.figure(figsize = (12, 6))\n",
    "plt.pie(degree, labels = degree_labels, autopct='%1.1f%%')\n",
    "plt.legend(loc = \"best\")\n",
    "plt.show()"
   ]
  },
  {
   "cell_type": "markdown",
   "id": "49bf9c64",
   "metadata": {},
   "source": [
    "###### Percentage of people without advanced education who make more than 50K."
   ]
  },
  {
   "cell_type": "code",
   "execution_count": 18,
   "id": "7a0c6c73",
   "metadata": {},
   "outputs": [],
   "source": [
    "indices_to_drop = data[data[\"education\"].isin([\"Bachelors\", \"Masters\", \"Doctorate\"])].index\n",
    "data.drop(indices_to_drop, inplace=True)"
   ]
  },
  {
   "cell_type": "code",
   "execution_count": 19,
   "id": "870daf48",
   "metadata": {},
   "outputs": [
    {
     "data": {
      "text/plain": [
       "array(['HS-grad', '11th', '9th', 'Some-college', 'Assoc-acdm',\n",
       "       'Assoc-voc', '7th-8th', 'Prof-school', '5th-6th', '10th',\n",
       "       '1st-4th', 'Preschool', '12th'], dtype=object)"
      ]
     },
     "execution_count": 19,
     "metadata": {},
     "output_type": "execute_result"
    }
   ],
   "source": [
    "data.head(10)\n",
    "data[\"education\"].unique()"
   ]
  },
  {
   "cell_type": "code",
   "execution_count": 32,
   "id": "fb677a33",
   "metadata": {},
   "outputs": [
    {
     "name": "stdout",
     "output_type": "stream",
     "text": [
      "There are: 4355 of people without advance education who make more than 50K.\n"
     ]
    }
   ],
   "source": [
    "# people without advanced education make more than 50K\n",
    "without_degree = (data[\"salary\"] == \">50K\")\n",
    "print(f'There are: {len(data[without_degree])} of people without advance education who make more than 50K.')"
   ]
  },
  {
   "cell_type": "code",
   "execution_count": 27,
   "id": "39fa8834",
   "metadata": {},
   "outputs": [
    {
     "name": "stdout",
     "output_type": "stream",
     "text": [
      "13.37 of people make more than 50K without advanced education\n"
     ]
    }
   ],
   "source": [
    "# percentage of people without advanced education make more than 50K\n",
    "\n",
    "pre_without_degree = (4355/32561)*100\n",
    "print(f'{pre_without_degree:.2f} of people make more than 50K without advanced education.')"
   ]
  },
  {
   "cell_type": "code",
   "execution_count": 30,
   "id": "b38a241f",
   "metadata": {},
   "outputs": [
    {
     "name": "stdout",
     "output_type": "stream",
     "text": [
      "Minimum number of hours a person works per week is: 1 hour.\n",
      "Masimum number of hours a person works per week is: 99 hours.\n"
     ]
    }
   ],
   "source": [
    "print(f'Minimum number of hours a person works per week is: {data[\"hours-per-week\"].min()} hour.')\n",
    "print(f'Masimum number of hours a person works per week is: {data[\"hours-per-week\"].max()} hours.')"
   ]
  },
  {
   "cell_type": "code",
   "execution_count": 23,
   "id": "69faa45e",
   "metadata": {},
   "outputs": [
    {
     "data": {
      "text/html": [
       "<div>\n",
       "<style scoped>\n",
       "    .dataframe tbody tr th:only-of-type {\n",
       "        vertical-align: middle;\n",
       "    }\n",
       "\n",
       "    .dataframe tbody tr th {\n",
       "        vertical-align: top;\n",
       "    }\n",
       "\n",
       "    .dataframe thead th {\n",
       "        text-align: right;\n",
       "    }\n",
       "</style>\n",
       "<table border=\"1\" class=\"dataframe\">\n",
       "  <thead>\n",
       "    <tr style=\"text-align: right;\">\n",
       "      <th></th>\n",
       "      <th>age</th>\n",
       "      <th>workclass</th>\n",
       "      <th>fnlwgt</th>\n",
       "      <th>education</th>\n",
       "      <th>education-num</th>\n",
       "      <th>marital-status</th>\n",
       "      <th>occupation</th>\n",
       "      <th>relationship</th>\n",
       "      <th>race</th>\n",
       "      <th>sex</th>\n",
       "      <th>capital-gain</th>\n",
       "      <th>capital-loss</th>\n",
       "      <th>hours-per-week</th>\n",
       "      <th>native-country</th>\n",
       "      <th>salary</th>\n",
       "    </tr>\n",
       "  </thead>\n",
       "  <tbody>\n",
       "    <tr>\n",
       "      <th>20072</th>\n",
       "      <td>65</td>\n",
       "      <td>?</td>\n",
       "      <td>76043</td>\n",
       "      <td>HS-grad</td>\n",
       "      <td>9</td>\n",
       "      <td>Married-civ-spouse</td>\n",
       "      <td>?</td>\n",
       "      <td>Husband</td>\n",
       "      <td>White</td>\n",
       "      <td>Male</td>\n",
       "      <td>0</td>\n",
       "      <td>0</td>\n",
       "      <td>1</td>\n",
       "      <td>United-States</td>\n",
       "      <td>&gt;50K</td>\n",
       "    </tr>\n",
       "  </tbody>\n",
       "</table>\n",
       "</div>"
      ],
      "text/plain": [
       "       age workclass  fnlwgt education  education-num      marital-status  \\\n",
       "20072   65         ?   76043   HS-grad              9  Married-civ-spouse   \n",
       "\n",
       "      occupation relationship   race   sex  capital-gain  capital-loss  \\\n",
       "20072          ?      Husband  White  Male             0             0   \n",
       "\n",
       "       hours-per-week native-country salary  \n",
       "20072               1  United-States   >50K  "
      ]
     },
     "execution_count": 23,
     "metadata": {},
     "output_type": "execute_result"
    }
   ],
   "source": [
    "#  people who work the minimum number of hours per week and have a salary of more than 50K\n",
    "min_hours = (data[\"hours-per-week\"] == 1)\n",
    "min_min = data[min_hours]\n",
    "min_min[min_min[\"salary\"] == \">50K\"]"
   ]
  }
 ],
 "metadata": {
  "kernelspec": {
   "display_name": "Python 3 (ipykernel)",
   "language": "python",
   "name": "python3"
  },
  "language_info": {
   "codemirror_mode": {
    "name": "ipython",
    "version": 3
   },
   "file_extension": ".py",
   "mimetype": "text/x-python",
   "name": "python",
   "nbconvert_exporter": "python",
   "pygments_lexer": "ipython3",
   "version": "3.9.7"
  }
 },
 "nbformat": 4,
 "nbformat_minor": 5
}
